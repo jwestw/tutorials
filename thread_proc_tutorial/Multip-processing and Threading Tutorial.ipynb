{
 "cells": [
  {
   "cell_type": "markdown",
   "metadata": {},
   "source": [
    "# Threading and Multiprocessing"
   ]
  },
  {
   "cell_type": "markdown",
   "metadata": {},
   "source": [
    "With threading and multiprocessing you can run code in paralell and speed up the performance of your code. \n",
    "\n",
    "It is important to understand the difference between a process and a thread and the advantages and disadvantages of both. \n",
    "\n",
    "How and threads are limited by the Global Interpreter Lock (GIL, which we cover here) and how we can easily use the build threading and multiprocessing modules in Python to create to multiple threads or processes. \n",
    "\n",
    "## Difference between a process and thread\n",
    "\n",
    "A process is an 'instance' of a program. So if you run a Firefox browser, that's one process. You could start another browser, which would be two processes. Likewise, one Python interpreter is one process. \n",
    "\n",
    "A thread on the other hand is an 'entity' within a process. Processes can have multiple threads inside. \n",
    "\n",
    "## Processes\n",
    "\n",
    "Processes take advantage of multiple CPUs and cores, so you can execute your code on multiple CPUs in parellel. Processes have a sperate memory space, and it is not shared between processes. And they are great for CPU bound processing so this means for example if you have a large amount data and have to do a lot of exansive computations on them. With multi-processing you can process the data on different CPUs and this way speed up your code's execution. A new process is started independtly from other processes and processes are easily 'interuptable' and 'killable' and there's one GIL for each process so this avoids the GIL limitation. \n",
    "\n",
    "### Disdavantages of processes\n",
    "\n",
    "A process is heavyweight, so it takes a lot of memory. Starting a process is slower than starting a thread. And since processes have a seperate space then memory sharing is not so easy, so the so called 'interprocess communication' is more complicated. \n",
    "\n",
    "## Threads \n",
    "\n",
    "A thread is an entity in a process that can be scheduled for execution. It's also known as a 'lightweight process' and a process can spawn multiple threads. All threads within a process share the same memory and they are lightweight so starting a thread is faster than starting a process. And they are great for input/output (I/O) tasks when your program is  interacting with a slower devices like a hard-drive or a network connection, then with threading your program can use the time waiting for the these devices and intelligently switch to other threads and do the processing in the mean time. This is how you can speed up your code with threading. \n",
    "\n",
    "### Disadvantages of threading\n",
    "\n",
    "In Python threading is limited by the GIL, which allows only one thread at a time so there is no actual paralell computation going on in multi-threading. So threading has no effect for CPU bound tasks and they are not interuptable and killable. Be careful with memory leaks. Since a thread share the same memory you have to be careful with 'race conditions' \n",
    "\n",
    "#### What are race conditions\n",
    "\n",
    "Race conditions occurs when two more threads want to modify the same variable at the same time. Easily causes bugs or crashes. \n",
    "\n",
    "#### What are memory leaks?\n",
    "\n",
    "A memory leak in Python is when Python interpreter incorrectly manages memory in a way that memory which is no longer needed is not released. \n",
    "\n",
    "#### What is the GIL?\n",
    "\n",
    "The GIL is the Global Interpreter Lock is a lock in Python that allows only one thread at a time to execute. This is very contraversial in the Python Community. It is needed because in CPython (which is the standard implementation of Python from python.org) there is a memory management which is not thread-safe. In CPython there is a technique which is called 'reference counting' which is used for memory management. Objects created in Python have a refence count variable that keeps track of the number of references that point to the object. And when this count reaches 0 the memory occupied by the object can be released. The problem in multi-threading is that this reference count variable need protection from race conditions where two threads increase or decrease the values simultaneously. When this happens it can either can cause leaked memory which is never released or it can incorrectly release the memory while a reference to the object still exists. So this is the reason the GIL exists in Python. There are a couple of ways to avoid the GIL if you want to use paralell computing, is to use multi-processing, or use a different a different 'free-threaded' Python implemnetation, like Jython or Iron-Python. Or use Python as a wrapper for third-party libraries like Numpy or SciPy modules which are basically Python wrappers for that then call code which is executed in C/C++. \n"
   ]
  },
  {
   "cell_type": "code",
   "execution_count": 9,
   "metadata": {},
   "outputs": [
    {
     "name": "stdout",
     "output_type": "stream",
     "text": [
      "8\n",
      "End main\n"
     ]
    }
   ],
   "source": [
    "from multiprocessing import Process\n",
    "import os\n",
    "import time\n",
    "\n",
    "#create a list to store processes\n",
    "processes = []\n",
    "\n",
    "# define number of processes\n",
    "num_processes = os.cpu_count()\n",
    "\n",
    "print(num_processes)\n",
    "\n",
    "#define function to be used in processes\n",
    "def square_numbers():\n",
    "    for i in range(100):\n",
    "        i * i\n",
    "        time.sleep(0.5)\n",
    "\n",
    "#create processes\n",
    "for i in range(num_processes):\n",
    "    # spawn new process\n",
    "    p = Process(target=square_numbers)\n",
    "    processes.append(p)\n",
    "    \n",
    "#start processes\n",
    "for p in processes:\n",
    "    p.start()\n",
    "    \n",
    "#join processes\n",
    "for p in processes:\n",
    "    p.join()\n",
    "    #wait for all processes are finished and block the main thread\n",
    "    \n",
    "print('End main')"
   ]
  },
  {
   "cell_type": "code",
   "execution_count": 10,
   "metadata": {},
   "outputs": [
    {
     "name": "stdout",
     "output_type": "stream",
     "text": [
      "10\n",
      "End main\n"
     ]
    }
   ],
   "source": [
    "from threading import Thread\n",
    "import os\n",
    "import time\n",
    "\n",
    "#create a list to store processes\n",
    "threads = []\n",
    "\n",
    "# define number of processes\n",
    "num_threads = 8\n",
    "\n",
    "print(num_threads)\n",
    "\n",
    "#define function to be used in threads\n",
    "def square_numbers():\n",
    "    for i in range(100):\n",
    "        i * i\n",
    "        time.sleep(0.5)\n",
    "\n",
    "#create threads\n",
    "for i in range(num_threads):\n",
    "    # spawn new thread\n",
    "    t = Thread(target=square_numbers)\n",
    "    threads.append(t)\n",
    "    \n",
    "#start threads\n",
    "for t in threads:\n",
    "    t.start()\n",
    "    \n",
    "#join threads\n",
    "for t in threads:\n",
    "    t.join()\n",
    "    #wait for all processes are finished and block the main thread\n",
    "    \n",
    "print('End main')"
   ]
  },
  {
   "cell_type": "code",
   "execution_count": null,
   "metadata": {},
   "outputs": [],
   "source": []
  }
 ],
 "metadata": {
  "kernelspec": {
   "display_name": "Python 3",
   "language": "python",
   "name": "python3"
  },
  "language_info": {
   "codemirror_mode": {
    "name": "ipython",
    "version": 3
   },
   "file_extension": ".py",
   "mimetype": "text/x-python",
   "name": "python",
   "nbconvert_exporter": "python",
   "pygments_lexer": "ipython3",
   "version": "3.6.12"
  }
 },
 "nbformat": 4,
 "nbformat_minor": 4
}
