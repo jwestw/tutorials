{
 "cells": [
  {
   "cell_type": "markdown",
   "metadata": {},
   "source": [
    "# Tutorial about generators"
   ]
  },
  {
   "cell_type": "markdown",
   "metadata": {},
   "source": [
    "Firstly, what are generator expressions and why use them? A generator is a function that returns an iterator object. So Python generators are a simple way of creating iterators and we use them because they are easy to create, and quick to create. The seciton on [the advantages of generators](#advantages) goes into more detail on the pros of generators. "
   ]
  },
  {
   "cell_type": "markdown",
   "metadata": {},
   "source": [
    "## Generator functions\n",
    "Just as we can create data *** in a fucntion, generators can be created in a similar way. However functions that create generators use the keyowrd `yield` instead of `return`"
   ]
  },
  {
   "cell_type": "code",
   "execution_count": 14,
   "metadata": {},
   "outputs": [
    {
     "data": {
      "text/plain": [
       "generator"
      ]
     },
     "execution_count": 14,
     "metadata": {},
     "output_type": "execute_result"
    }
   ],
   "source": [
    "def my_gen_maker():\n",
    "    yield 1\n",
    "\n",
    "gen_1 = my_gen_maker()\n",
    "type(a)"
   ]
  },
  {
   "cell_type": "markdown",
   "metadata": {},
   "source": [
    "Let's compare the syntax of a generator function and a list creation function"
   ]
  },
  {
   "cell_type": "code",
   "execution_count": 29,
   "metadata": {},
   "outputs": [],
   "source": [
    "def list_squares_from_list(list_of_numbers):\n",
    "    results_list = []\n",
    "    for number in list_of_numbers:\n",
    "        results_list.append(number ** number)\n",
    "    results_list\n",
    "\n",
    "def gen_squares_from_list(list_of_numbers):\n",
    "    for number in list_of_numbers:\n",
    "        yield (number ** number)"
   ]
  },
  {
   "cell_type": "markdown",
   "metadata": {},
   "source": [
    "The main things to note about the generator function:\n",
    "1. `yield` is used instead of `return` \n",
    "2. no empty list (or generator equivilent) needs to be created\n",
    "3. the syntax is much simpler"
   ]
  },
  {
   "cell_type": "markdown",
   "metadata": {},
   "source": [
    "## Generator Expressions\n",
    "\n",
    "Just like a list comprehension creates a list from an iterable, generator expressions create a generator with similar syntax, but it yields a generator. For example:"
   ]
  },
  {
   "cell_type": "code",
   "execution_count": 30,
   "metadata": {},
   "outputs": [
    {
     "data": {
      "text/plain": [
       "list"
      ]
     },
     "execution_count": 30,
     "metadata": {},
     "output_type": "execute_result"
    }
   ],
   "source": [
    "lst_1 = [i**i for i in [1,2,3]]\n",
    "type(lst_1)"
   ]
  },
  {
   "cell_type": "code",
   "execution_count": 42,
   "metadata": {},
   "outputs": [
    {
     "data": {
      "text/plain": [
       "generator"
      ]
     },
     "execution_count": 42,
     "metadata": {},
     "output_type": "execute_result"
    }
   ],
   "source": [
    "gen_2 = (i**i for i in [1,2,3])\n",
    "type(gen_2)"
   ]
  },
  {
   "cell_type": "markdown",
   "metadata": {},
   "source": [
    "We can print a list to see the items within, but not a generator:"
   ]
  },
  {
   "cell_type": "code",
   "execution_count": 36,
   "metadata": {},
   "outputs": [
    {
     "name": "stdout",
     "output_type": "stream",
     "text": [
      "[1, 4, 27]\n",
      "<generator object <genexpr> at 0x00000285480686D0>\n"
     ]
    }
   ],
   "source": [
    "print(lst_1)\n",
    "print(gen_2)"
   ]
  },
  {
   "cell_type": "markdown",
   "metadata": {},
   "source": [
    "But this is easily overcome by using Python's `list()` function to turn the generator into a list. The [advantages of generators](#advantages) will be lost if you turn the generator into a list."
   ]
  },
  {
   "cell_type": "code",
   "execution_count": 39,
   "metadata": {},
   "outputs": [
    {
     "name": "stdout",
     "output_type": "stream",
     "text": [
      "[]\n"
     ]
    }
   ],
   "source": [
    "print(list(gen_2))"
   ]
  },
  {
   "cell_type": "markdown",
   "metadata": {},
   "source": [
    "Similarly we cannot slice a generator by index, as you can with a list: "
   ]
  },
  {
   "cell_type": "code",
   "execution_count": 40,
   "metadata": {},
   "outputs": [
    {
     "data": {
      "text/plain": [
       "27"
      ]
     },
     "execution_count": 40,
     "metadata": {},
     "output_type": "execute_result"
    }
   ],
   "source": [
    "lst_1[2]"
   ]
  },
  {
   "cell_type": "code",
   "execution_count": 41,
   "metadata": {},
   "outputs": [
    {
     "ename": "TypeError",
     "evalue": "'generator' object is not subscriptable",
     "output_type": "error",
     "traceback": [
      "\u001b[1;31m---------------------------------------------------------------------------\u001b[0m",
      "\u001b[1;31mTypeError\u001b[0m                                 Traceback (most recent call last)",
      "\u001b[1;32m<ipython-input-41-d5e7aff00e5a>\u001b[0m in \u001b[0;36m<module>\u001b[1;34m()\u001b[0m\n\u001b[1;32m----> 1\u001b[1;33m \u001b[0mgen_2\u001b[0m\u001b[1;33m[\u001b[0m\u001b[1;36m2\u001b[0m\u001b[1;33m]\u001b[0m\u001b[1;33m\u001b[0m\u001b[1;33m\u001b[0m\u001b[0m\n\u001b[0m",
      "\u001b[1;31mTypeError\u001b[0m: 'generator' object is not subscriptable"
     ]
    }
   ],
   "source": [
    "gen_2[2]"
   ]
  },
  {
   "cell_type": "markdown",
   "metadata": {},
   "source": [
    "Again this can be easily overcome by using Python's `list()` function to turn the generator into a list and then the index applied to that. But again,  the [advantages of generators](#advantages) will be lost if you turn the generator into a list.\n",
    "\n",
    "Generators generate their elements on the fly so they can only advance to the next element when called to do so, therefore there is no pre-existing array to index."
   ]
  },
  {
   "cell_type": "code",
   "execution_count": 44,
   "metadata": {},
   "outputs": [
    {
     "ename": "IndexError",
     "evalue": "list index out of range",
     "output_type": "error",
     "traceback": [
      "\u001b[1;31m---------------------------------------------------------------------------\u001b[0m",
      "\u001b[1;31mIndexError\u001b[0m                                Traceback (most recent call last)",
      "\u001b[1;32m<ipython-input-44-dc9d650f8fd2>\u001b[0m in \u001b[0;36m<module>\u001b[1;34m()\u001b[0m\n\u001b[1;32m----> 1\u001b[1;33m \u001b[0mlist\u001b[0m\u001b[1;33m(\u001b[0m\u001b[0mgen_2\u001b[0m\u001b[1;33m)\u001b[0m\u001b[1;33m[\u001b[0m\u001b[1;36m2\u001b[0m\u001b[1;33m]\u001b[0m\u001b[1;33m\u001b[0m\u001b[1;33m\u001b[0m\u001b[0m\n\u001b[0m",
      "\u001b[1;31mIndexError\u001b[0m: list index out of range"
     ]
    }
   ],
   "source": [
    "list(gen_2)[2]"
   ]
  },
  {
   "cell_type": "markdown",
   "metadata": {},
   "source": [
    "We can see that generators *only* create elements in response to iteration. This is known as __lazy evaluation__ (like Spark)."
   ]
  },
  {
   "cell_type": "markdown",
   "metadata": {},
   "source": [
    "## Iterating through your generator\n",
    "\n",
    "Using `next` to iterate through the generator and cause it to calculate the next element in the sequence"
   ]
  },
  {
   "cell_type": "code",
   "execution_count": 21,
   "metadata": {},
   "outputs": [
    {
     "data": {
      "text/plain": [
       "1"
      ]
     },
     "execution_count": 21,
     "metadata": {},
     "output_type": "execute_result"
    }
   ],
   "source": [
    "next(gen_2)"
   ]
  },
  {
   "cell_type": "code",
   "execution_count": 22,
   "metadata": {},
   "outputs": [
    {
     "data": {
      "text/plain": [
       "4"
      ]
     },
     "execution_count": 22,
     "metadata": {},
     "output_type": "execute_result"
    }
   ],
   "source": [
    "next(gen_2)"
   ]
  },
  {
   "cell_type": "code",
   "execution_count": 23,
   "metadata": {},
   "outputs": [
    {
     "data": {
      "text/plain": [
       "27"
      ]
     },
     "execution_count": 23,
     "metadata": {},
     "output_type": "execute_result"
    }
   ],
   "source": [
    "next(gen_2)"
   ]
  },
  {
   "cell_type": "markdown",
   "metadata": {},
   "source": [
    "However, if you go too far an iterate again after exhausting the items to be generated, you get a StopIteration error"
   ]
  },
  {
   "cell_type": "code",
   "execution_count": 24,
   "metadata": {},
   "outputs": [
    {
     "ename": "StopIteration",
     "evalue": "",
     "output_type": "error",
     "traceback": [
      "\u001b[1;31m---------------------------------------------------------------------------\u001b[0m",
      "\u001b[1;31mStopIteration\u001b[0m                             Traceback (most recent call last)",
      "\u001b[1;32m<ipython-input-24-5df663bee086>\u001b[0m in \u001b[0;36m<module>\u001b[1;34m()\u001b[0m\n\u001b[1;32m----> 1\u001b[1;33m \u001b[0mnext\u001b[0m\u001b[1;33m(\u001b[0m\u001b[0mgen_2\u001b[0m\u001b[1;33m)\u001b[0m\u001b[1;33m\u001b[0m\u001b[1;33m\u001b[0m\u001b[0m\n\u001b[0m",
      "\u001b[1;31mStopIteration\u001b[0m: "
     ]
    }
   ],
   "source": [
    "next(gen_2)"
   ]
  },
  {
   "cell_type": "markdown",
   "metadata": {},
   "source": [
    "We could get around this by using `try` and `except` as part of our code:"
   ]
  },
  {
   "cell_type": "code",
   "execution_count": 45,
   "metadata": {},
   "outputs": [],
   "source": [
    "try:\n",
    "    next(gen_2)\n",
    "except StopIteration:\n",
    "    pass"
   ]
  },
  {
   "cell_type": "markdown",
   "metadata": {},
   "source": [
    "Or simply, by using a `for` loop. `for` loops can be used to iterate through the generator, until the end of the sequence.\n",
    "\n",
    "__Interesting side note__: because `next` has been used on `gen_2` to the point of \"exhaustion\" the generator no longer exists in memory and it needs to be recreated. This is because generators can only be iterated over once."
   ]
  },
  {
   "cell_type": "code",
   "execution_count": 46,
   "metadata": {},
   "outputs": [
    {
     "name": "stdout",
     "output_type": "stream",
     "text": [
      "1\n",
      "4\n",
      "27\n"
     ]
    }
   ],
   "source": [
    "gen_2 = (i**i for i in [1,2,3])\n",
    "\n",
    "for item in gen_2:\n",
    "    print(item)"
   ]
  },
  {
   "cell_type": "markdown",
   "metadata": {},
   "source": [
    "## Advantages of Generators\n",
    "<a id='advantages'></a>"
   ]
  },
  {
   "cell_type": "markdown",
   "metadata": {},
   "source": [
    "* Save memory space: Iterators don’t compute the value of each item when instantiated. They only compute it when you ask for it. Especiall useful for large datasets\n",
    "* Save computing time at the point of creation (but not necessarily at when accessing elements) \n",
    "\n",
    "and as we have seen already\n",
    "* the syntax is similar or even simpler than creating lists"
   ]
  },
  {
   "cell_type": "code",
   "execution_count": 63,
   "metadata": {},
   "outputs": [],
   "source": [
    "from itertools import combinations_with_replacement\n",
    "import sys\n",
    "\n",
    "combo_list = [''.join(item) for item in combinations_with_replacement('ABCDWXYZ', 20)]\n",
    "combo_gen = (''.join(item) for item in combinations_with_replacement('ABCDWXYZ', 20))"
   ]
  },
  {
   "cell_type": "code",
   "execution_count": 65,
   "metadata": {},
   "outputs": [
    {
     "name": "stdout",
     "output_type": "stream",
     "text": [
      "Size of list is 7731040\n",
      "Size of list is 88\n"
     ]
    }
   ],
   "source": [
    "print (f\"Size of list is {sys.getsizeof(combo_list)}\")\n",
    "print (f\"Size of list is {sys.getsizeof(combo_gen)}\")"
   ]
  },
  {
   "cell_type": "code",
   "execution_count": 66,
   "metadata": {},
   "outputs": [
    {
     "name": "stdout",
     "output_type": "stream",
     "text": [
      "521 ms ± 161 ms per loop (mean ± std. dev. of 7 runs, 1 loop each)\n"
     ]
    }
   ],
   "source": [
    "%timeit([''.join(item) for item in combinations_with_replacement('ABCDWXYZ', 20)])"
   ]
  },
  {
   "cell_type": "code",
   "execution_count": 67,
   "metadata": {},
   "outputs": [
    {
     "name": "stdout",
     "output_type": "stream",
     "text": [
      "1.38 µs ± 233 ns per loop (mean ± std. dev. of 7 runs, 1000000 loops each)\n"
     ]
    }
   ],
   "source": [
    "%timeit(''.join(item) for item in combinations_with_replacement('ABCDWXYZ', 20))"
   ]
  },
  {
   "cell_type": "markdown",
   "metadata": {},
   "source": [
    "However at the point of accessing these elements the computing time could be slower. "
   ]
  },
  {
   "cell_type": "code",
   "execution_count": 73,
   "metadata": {},
   "outputs": [
    {
     "name": "stdout",
     "output_type": "stream",
     "text": [
      "The slowest run took 4.05 times longer than the fastest. This could mean that an intermediate result is being cached.\n",
      "93.9 ms ± 57.8 ms per loop (mean ± std. dev. of 7 runs, 10 loops each)\n"
     ]
    }
   ],
   "source": [
    "def count_WW_in_list(combi_lst):\n",
    "    count_WW = 0\n",
    "    for combo in combi_lst:\n",
    "        if \"WW\" in combo:\n",
    "            count_WW += 1\n",
    "    return count_WW\n",
    "%timeit(count_WW_in_list(combo_list))       "
   ]
  },
  {
   "cell_type": "code",
   "execution_count": 74,
   "metadata": {},
   "outputs": [
    {
     "name": "stdout",
     "output_type": "stream",
     "text": [
      "The slowest run took 4.87 times longer than the fastest. This could mean that an intermediate result is being cached.\n",
      "2.54 µs ± 1.97 µs per loop (mean ± std. dev. of 7 runs, 1 loop each)\n"
     ]
    }
   ],
   "source": [
    "combo_gen = (''.join(item) for item in combinations_with_replacement('ABCDWXYZ', 20))\n",
    "\n",
    "def count_WW_in_gen(combi_gen):\n",
    "    count_WW = 0\n",
    "    for combo in combi_gen:\n",
    "        if \"WW\" in combo:\n",
    "            count_WW += 1\n",
    "    return count_WW\n",
    "%timeit(count_WW_in_gen(combo_gen))   \n"
   ]
  },
  {
   "cell_type": "markdown",
   "metadata": {},
   "source": [
    "A practical example:\n",
    "\n",
    "If you needed to open a massive dataset in csv a generator might be perfect for this as it would save time and memory. \n",
    "\n",
    "`file_name = 'a_really_humungous_csv.csv'`\n",
    "\n",
    "You might typically access data like this:\n",
    "`list_of_CSV_data = [row for row in open(file_name)]`\n",
    "But depending on the size of the csv, this might take ages and possibly crash the program due to lack of memory. \n",
    "\n",
    "By simply replacing the square brackets with round ones, we have a generator that exectute very quickly and will take up little memory. \n",
    "`generator_of_CSV_data = (row for row in open(file_name))`"
   ]
  },
  {
   "cell_type": "code",
   "execution_count": 79,
   "metadata": {},
   "outputs": [
    {
     "name": "stdout",
     "output_type": "stream",
     "text": [
      "Total number of letters in the generator is 17760600\n",
      "770 ns ± 351 ns per loop (mean ± std. dev. of 7 runs, 1000000 loops each)\n"
     ]
    }
   ],
   "source": [
    "combo_gen = (''.join(item) for item in combinations_with_replacement('ABCDWXYZ', 20))\n",
    "\n",
    "def sum_letters_in_gen(combi_gen):\n",
    "    count_len = 0\n",
    "    sum_of_all_letters = sum(len(combo) for combo in combi_gen)\n",
    "    return sum_of_all_letters\n",
    "\n",
    "print(f\"Total number of letters in the generator is {sum_letters_in_gen(combo_gen)}\")\n",
    "%timeit(sum_letters_in_gen(combo_gen))   "
   ]
  },
  {
   "cell_type": "code",
   "execution_count": 80,
   "metadata": {},
   "outputs": [
    {
     "name": "stdout",
     "output_type": "stream",
     "text": [
      "Total number of letters in the list is 17760600\n",
      "342 ms ± 56.2 ms per loop (mean ± std. dev. of 7 runs, 1 loop each)\n"
     ]
    }
   ],
   "source": [
    "def sum_letters_in_list(combi_lst):\n",
    "    count_len = 0\n",
    "    sum_of_all_letters = sum(len(combo) for combo in combi_lst)\n",
    "    return sum_of_all_letters\n",
    "print(f\"Total number of letters in the list is {sum_letters_in_list(combo_list)}\")\n",
    "%timeit(sum_letters_in_list(combo_list))  "
   ]
  },
  {
   "cell_type": "markdown",
   "metadata": {},
   "source": [
    "\"With big list comprehensions you'll run out of memory, with big generators you'll run out of time\""
   ]
  },
  {
   "cell_type": "code",
   "execution_count": null,
   "metadata": {},
   "outputs": [],
   "source": []
  }
 ],
 "metadata": {
  "kernelspec": {
   "display_name": "Python 3",
   "language": "python",
   "name": "python3"
  },
  "language_info": {
   "codemirror_mode": {
    "name": "ipython",
    "version": 3
   },
   "file_extension": ".py",
   "mimetype": "text/x-python",
   "name": "python",
   "nbconvert_exporter": "python",
   "pygments_lexer": "ipython3",
   "version": "3.6.10"
  }
 },
 "nbformat": 4,
 "nbformat_minor": 4
}
